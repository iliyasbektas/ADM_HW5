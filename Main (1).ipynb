{
  "nbformat": 4,
  "nbformat_minor": 0,
  "metadata": {
    "colab": {
      "name": "Main.ipynb",
      "provenance": [],
      "collapsed_sections": []
    },
    "kernelspec": {
      "display_name": "Python 3",
      "language": "python",
      "name": "python3"
    },
    "language_info": {
      "codemirror_mode": {
        "name": "ipython",
        "version": 3
      },
      "file_extension": ".py",
      "mimetype": "text/x-python",
      "name": "python",
      "nbconvert_exporter": "python",
      "pygments_lexer": "ipython3",
      "version": "3.7.4"
    }
  },
  "cells": [
    {
      "cell_type": "code",
      "metadata": {
        "id": "Y46rg1ruv4Zj"
      },
      "source": [
        "import pandas as pd \n",
        "import numpy as np\n",
        "import networkx\n",
        "from tqdm import tqdm\n",
        "import sys\n",
        "import numpy\n",
        "numpy.set_printoptions(threshold=sys.maxsize)\n",
        "import random \n",
        "import matplotlib.pyplot as plt\n",
        "from collections import defaultdict\n",
        "import operator"
      ],
      "execution_count": 71,
      "outputs": []
    },
    {
      "cell_type": "code",
      "metadata": {
        "colab": {
          "base_uri": "https://localhost:8080/",
          "height": 0
        },
        "id": "JGmUdzKlv4Zs",
        "outputId": "c99574da-c595-4241-bfad-9ed917e13512"
      },
      "source": [
        "from google.colab import drive\r\n",
        "drive.mount('/content/drive')"
      ],
      "execution_count": 3,
      "outputs": [
        {
          "output_type": "stream",
          "text": [
            "Mounted at /content/drive\n"
          ],
          "name": "stdout"
        }
      ]
    },
    {
      "cell_type": "code",
      "metadata": {
        "id": "yG-E_IVxYqKJ"
      },
      "source": [
        " path = '/content/drive/My Drive/Sapienza/ADM/HW5/data/'"
      ],
      "execution_count": 4,
      "outputs": []
    },
    {
      "cell_type": "markdown",
      "metadata": {
        "id": "xRdhgxlmv4Zt"
      },
      "source": [
        "# General Notes \n",
        "## This section is dedicated to the data preprocessing"
      ]
    },
    {
      "cell_type": "markdown",
      "metadata": {
        "id": "dBba696Qv4Zt"
      },
      "source": [
        "There are three files  to be preprocessed and used in further analysis. In 'wikigraph_reduced.csv', every row indicates an edge. In particular, the two elements are the source and the target, respectively. \n",
        "\n",
        "In addition, two files containing page names of the articles and the categories of the articles are provided; these are 'wiki-topcats-page-names.txt' and 'wiki-topcats-categories.txt' respectively. "
      ]
    },
    {
      "cell_type": "markdown",
      "metadata": {
        "id": "PbQ-y4D0v4Zu"
      },
      "source": [
        "####  File with Edge\n",
        "Here we prepare the file by putting separator, giving names to columns and etc"
      ]
    },
    {
      "cell_type": "code",
      "metadata": {
        "colab": {
          "base_uri": "https://localhost:8080/",
          "height": 111
        },
        "id": "9TxtD3p0v4Zu",
        "outputId": "c32784b2-590d-444e-f80b-463d7431cfdd"
      },
      "source": [
        "df= pd.read_csv(path +'wikigraph_reduced.csv', sep='\\t',  names=['Source','Target'] )\n",
        "df= df.iloc[1:]\n",
        "df.reset_index(drop=True,inplace=True)\n",
        "df.head(2)"
      ],
      "execution_count": 5,
      "outputs": [
        {
          "output_type": "execute_result",
          "data": {
            "text/html": [
              "<div>\n",
              "<style scoped>\n",
              "    .dataframe tbody tr th:only-of-type {\n",
              "        vertical-align: middle;\n",
              "    }\n",
              "\n",
              "    .dataframe tbody tr th {\n",
              "        vertical-align: top;\n",
              "    }\n",
              "\n",
              "    .dataframe thead th {\n",
              "        text-align: right;\n",
              "    }\n",
              "</style>\n",
              "<table border=\"1\" class=\"dataframe\">\n",
              "  <thead>\n",
              "    <tr style=\"text-align: right;\">\n",
              "      <th></th>\n",
              "      <th>Source</th>\n",
              "      <th>Target</th>\n",
              "    </tr>\n",
              "  </thead>\n",
              "  <tbody>\n",
              "    <tr>\n",
              "      <th>0</th>\n",
              "      <td>95</td>\n",
              "      <td>1185516</td>\n",
              "    </tr>\n",
              "    <tr>\n",
              "      <th>1</th>\n",
              "      <td>108</td>\n",
              "      <td>1059989</td>\n",
              "    </tr>\n",
              "  </tbody>\n",
              "</table>\n",
              "</div>"
            ],
            "text/plain": [
              "   Source   Target\n",
              "0      95  1185516\n",
              "1     108  1059989"
            ]
          },
          "metadata": {
            "tags": []
          },
          "execution_count": 5
        }
      ]
    },
    {
      "cell_type": "code",
      "metadata": {
        "colab": {
          "base_uri": "https://localhost:8080/",
          "height": 0
        },
        "id": "KBzRuKCUv4Zv",
        "outputId": "bf35ca24-a7b5-4e2a-a4bc-f06680a47c86"
      },
      "source": [
        "print('All edges = ' + str(df.shape[0]))\n",
        "print('Tot articles = ' + str(pd.concat([df.Source, df.Target]).nunique()))"
      ],
      "execution_count": 7,
      "outputs": [
        {
          "output_type": "stream",
          "text": [
            "All edges = 483094\n",
            "Tot articles = 98343\n"
          ],
          "name": "stdout"
        }
      ]
    },
    {
      "cell_type": "markdown",
      "metadata": {
        "id": "xxhAiZCuv4Zw"
      },
      "source": [
        "####  File with Categories"
      ]
    },
    {
      "cell_type": "markdown",
      "metadata": {
        "id": "tSnC-bOpv4Zw"
      },
      "source": [
        "In this part, we work with 'wiki-topcats-categories.txt' file. Firstly we clean 'Category' column firstly by splitting it and then choosing only necessary part. Secondly, we split 'Articles' column to be able to work with it. \n",
        "\n",
        "Thirdly, we assign each article to a new row with corresponding categories because one article might belong to multiple categories. "
      ]
    },
    {
      "cell_type": "code",
      "metadata": {
        "colab": {
          "base_uri": "https://localhost:8080/",
          "height": 111
        },
        "id": "gLlnOZupv4Zw",
        "outputId": "c793d7a3-d1e0-44ae-8097-832db329f643"
      },
      "source": [
        "df_cat = pd.read_csv(path + 'wiki-topcats-categories.txt', sep=';',names=['Category','Articles'],header=0)\n",
        "df_cat.head(2) # this is how it looked initially"
      ],
      "execution_count": 57,
      "outputs": [
        {
          "output_type": "execute_result",
          "data": {
            "text/html": [
              "<div>\n",
              "<style scoped>\n",
              "    .dataframe tbody tr th:only-of-type {\n",
              "        vertical-align: middle;\n",
              "    }\n",
              "\n",
              "    .dataframe tbody tr th {\n",
              "        vertical-align: top;\n",
              "    }\n",
              "\n",
              "    .dataframe thead th {\n",
              "        text-align: right;\n",
              "    }\n",
              "</style>\n",
              "<table border=\"1\" class=\"dataframe\">\n",
              "  <thead>\n",
              "    <tr style=\"text-align: right;\">\n",
              "      <th></th>\n",
              "      <th>Category</th>\n",
              "      <th>Articles</th>\n",
              "    </tr>\n",
              "  </thead>\n",
              "  <tbody>\n",
              "    <tr>\n",
              "      <th>0</th>\n",
              "      <td>Category:People_from_Worcester</td>\n",
              "      <td>1056 1057 1058 1059 1060 60971 76515 76871 78...</td>\n",
              "    </tr>\n",
              "    <tr>\n",
              "      <th>1</th>\n",
              "      <td>Category:Skin_conditions_resulting_from_physic...</td>\n",
              "      <td>971 973 1166 1167 1168 1169 1170 1171 1172 11...</td>\n",
              "    </tr>\n",
              "  </tbody>\n",
              "</table>\n",
              "</div>"
            ],
            "text/plain": [
              "                                            Category                                           Articles\n",
              "0                     Category:People_from_Worcester   1056 1057 1058 1059 1060 60971 76515 76871 78...\n",
              "1  Category:Skin_conditions_resulting_from_physic...   971 973 1166 1167 1168 1169 1170 1171 1172 11..."
            ]
          },
          "metadata": {
            "tags": []
          },
          "execution_count": 57
        }
      ]
    },
    {
      "cell_type": "code",
      "metadata": {
        "id": "Q4bMSBZKfRo4"
      },
      "source": [
        "def cat_clean(df_cat):\r\n",
        "  df_cat['Category']=df_cat.Category.str.split(':')# firstly\r\n",
        "  df_cat['Category']=df_cat.Category.str[1]\r\n",
        "  df_cat['Articles']=df_cat.Articles.str.split() # secondly\r\n",
        "  df_cat = pd.concat([pd.DataFrame(data = {'Articles': df_cat.loc[i].Articles,  # thirdly\r\n",
        "                                              'Category': df_cat.loc[i].Category}) for i in df_cat.index], ignore_index=True)\r\n",
        "  \r\n",
        "  return df_cat"
      ],
      "execution_count": 58,
      "outputs": []
    },
    {
      "cell_type": "code",
      "metadata": {
        "colab": {
          "base_uri": "https://localhost:8080/",
          "height": 111
        },
        "id": "gqx143rdfms2",
        "outputId": "b22ec191-5c91-4ce2-a8d7-10abaf559d1e"
      },
      "source": [
        "df_cat = cat_clean(df_cat)\r\n",
        "df_cat.head(2)"
      ],
      "execution_count": 59,
      "outputs": [
        {
          "output_type": "execute_result",
          "data": {
            "text/html": [
              "<div>\n",
              "<style scoped>\n",
              "    .dataframe tbody tr th:only-of-type {\n",
              "        vertical-align: middle;\n",
              "    }\n",
              "\n",
              "    .dataframe tbody tr th {\n",
              "        vertical-align: top;\n",
              "    }\n",
              "\n",
              "    .dataframe thead th {\n",
              "        text-align: right;\n",
              "    }\n",
              "</style>\n",
              "<table border=\"1\" class=\"dataframe\">\n",
              "  <thead>\n",
              "    <tr style=\"text-align: right;\">\n",
              "      <th></th>\n",
              "      <th>Articles</th>\n",
              "      <th>Category</th>\n",
              "    </tr>\n",
              "  </thead>\n",
              "  <tbody>\n",
              "    <tr>\n",
              "      <th>0</th>\n",
              "      <td>1056</td>\n",
              "      <td>People_from_Worcester</td>\n",
              "    </tr>\n",
              "    <tr>\n",
              "      <th>1</th>\n",
              "      <td>1057</td>\n",
              "      <td>People_from_Worcester</td>\n",
              "    </tr>\n",
              "  </tbody>\n",
              "</table>\n",
              "</div>"
            ],
            "text/plain": [
              "  Articles               Category\n",
              "0     1056  People_from_Worcester\n",
              "1     1057  People_from_Worcester"
            ]
          },
          "metadata": {
            "tags": []
          },
          "execution_count": 59
        }
      ]
    },
    {
      "cell_type": "markdown",
      "metadata": {
        "id": "728IFALrh_8o"
      },
      "source": [
        "In this function we want to make each article to belong to one category by applying uniform randomness"
      ]
    },
    {
      "cell_type": "code",
      "metadata": {
        "id": "FNQGCcY0f7if"
      },
      "source": [
        "def random_choice(df_cat):\r\n",
        "  articles_dictionary = {} # here we are making dictionary to find out to which categories each article belongs\r\n",
        "  for i in tqdm(range(len(df_cat))): \r\n",
        "      if df_cat.loc[i,\"Articles\"] not in articles_dictionary: \r\n",
        "          articles_dictionary[df_cat.loc[i,\"Articles\"]] = [] \r\n",
        "      articles_dictionary[df_cat.loc[i,\"Articles\"]].append(df_cat.loc[i,\"Category\"])\r\n",
        "  \r\n",
        "  for ks in tqdm(articles_dictionary):   # here we are selecting random category that it will belong to\r\n",
        "    new_v = random.choice(articles_dictionary[ks]) \r\n",
        "    del articles_dictionary[ks][:] \r\n",
        "    articles_dictionary[ks] = new_v \r\n",
        "\r\n",
        "  reversed_dictionary = {} # here we are changing the places of articles and categories\r\n",
        "  for k, v in tqdm(articles_dictionary.items()):  \r\n",
        "      reversed_dictionary.setdefault(v, []) \r\n",
        "      reversed_dictionary[v].append(k) # in the end we will get a category and its list of categories\r\n",
        "\r\n",
        "  return pd.DataFrame(reversed_dictionary.items(), columns=['Category', 'Articles']), reversed_dictionary"
      ],
      "execution_count": 60,
      "outputs": []
    },
    {
      "cell_type": "code",
      "metadata": {
        "colab": {
          "base_uri": "https://localhost:8080/",
          "height": 162
        },
        "id": "V1xLZYQviizq",
        "outputId": "08d0579a-7879-4945-a899-32cb2a1a8c2b"
      },
      "source": [
        "df_cat, reversed_dictionary = random_choice(df_cat)\r\n",
        "df_cat.head(2)"
      ],
      "execution_count": 61,
      "outputs": [
        {
          "output_type": "stream",
          "text": [
            "100%|██████████| 4758983/4758983 [04:57<00:00, 15970.78it/s]\n",
            "100%|██████████| 1790947/1790947 [00:03<00:00, 553478.48it/s]\n",
            "100%|██████████| 1790947/1790947 [00:01<00:00, 1688490.36it/s]\n"
          ],
          "name": "stderr"
        },
        {
          "output_type": "execute_result",
          "data": {
            "text/html": [
              "<div>\n",
              "<style scoped>\n",
              "    .dataframe tbody tr th:only-of-type {\n",
              "        vertical-align: middle;\n",
              "    }\n",
              "\n",
              "    .dataframe tbody tr th {\n",
              "        vertical-align: top;\n",
              "    }\n",
              "\n",
              "    .dataframe thead th {\n",
              "        text-align: right;\n",
              "    }\n",
              "</style>\n",
              "<table border=\"1\" class=\"dataframe\">\n",
              "  <thead>\n",
              "    <tr style=\"text-align: right;\">\n",
              "      <th></th>\n",
              "      <th>Category</th>\n",
              "      <th>Articles</th>\n",
              "    </tr>\n",
              "  </thead>\n",
              "  <tbody>\n",
              "    <tr>\n",
              "      <th>0</th>\n",
              "      <td>English_engineers</td>\n",
              "      <td>[1056, 1094099, 1094717, 1342675, 1470897, 147...</td>\n",
              "    </tr>\n",
              "    <tr>\n",
              "      <th>1</th>\n",
              "      <td>English_Anglican_priests</td>\n",
              "      <td>[1057, 1516731, 31509, 885549, 58363, 449802, ...</td>\n",
              "    </tr>\n",
              "  </tbody>\n",
              "</table>\n",
              "</div>"
            ],
            "text/plain": [
              "                   Category                                           Articles\n",
              "0         English_engineers  [1056, 1094099, 1094717, 1342675, 1470897, 147...\n",
              "1  English_Anglican_priests  [1057, 1516731, 31509, 885549, 58363, 449802, ..."
            ]
          },
          "metadata": {
            "tags": []
          },
          "execution_count": 61
        }
      ]
    },
    {
      "cell_type": "code",
      "metadata": {
        "colab": {
          "base_uri": "https://localhost:8080/",
          "height": 0
        },
        "id": "QhXBcAZ9ad8t",
        "outputId": "e95bce06-8952-4d6a-d01b-ae65cc751916"
      },
      "source": [
        "len(reversed_dictionary['English_engineers'])"
      ],
      "execution_count": 63,
      "outputs": [
        {
          "output_type": "execute_result",
          "data": {
            "text/plain": [
              "84"
            ]
          },
          "metadata": {
            "tags": []
          },
          "execution_count": 63
        }
      ]
    },
    {
      "cell_type": "markdown",
      "metadata": {
        "id": "LXNMlfrO2SlG"
      },
      "source": [
        "#### File with name"
      ]
    },
    {
      "cell_type": "markdown",
      "metadata": {
        "id": "Jp5NIqoACNht"
      },
      "source": [
        "In this part we are separating column that contains both the node and the page into two columns"
      ]
    },
    {
      "cell_type": "code",
      "metadata": {
        "colab": {
          "base_uri": "https://localhost:8080/",
          "height": 142
        },
        "id": "ADT70uxW3eOT",
        "outputId": "de507a89-4ffd-4119-81cb-68a74b26826c"
      },
      "source": [
        "df_name = pd.read_csv(path + \"wiki-topcats-page-names.txt\", sep=\"\\t\", names = [\"name\"])\r\n",
        "page= []\r\n",
        "for i in (df_name['name']): \r\n",
        "    page.append(\" \".join(i.split()[1:]))\r\n",
        "df_name['page'] = page\r\n",
        "df_name['name'] = df_name.name.str.split()\r\n",
        "df_name['node'] = df_name.name.str[0]\r\n",
        "df_name = df_name[['page', 'node']]\r\n",
        "df_name.set_index('node', inplace = True)\r\n",
        "df_name.head(2)"
      ],
      "execution_count": 10,
      "outputs": [
        {
          "output_type": "execute_result",
          "data": {
            "text/html": [
              "<div>\n",
              "<style scoped>\n",
              "    .dataframe tbody tr th:only-of-type {\n",
              "        vertical-align: middle;\n",
              "    }\n",
              "\n",
              "    .dataframe tbody tr th {\n",
              "        vertical-align: top;\n",
              "    }\n",
              "\n",
              "    .dataframe thead th {\n",
              "        text-align: right;\n",
              "    }\n",
              "</style>\n",
              "<table border=\"1\" class=\"dataframe\">\n",
              "  <thead>\n",
              "    <tr style=\"text-align: right;\">\n",
              "      <th></th>\n",
              "      <th>page</th>\n",
              "    </tr>\n",
              "    <tr>\n",
              "      <th>node</th>\n",
              "      <th></th>\n",
              "    </tr>\n",
              "  </thead>\n",
              "  <tbody>\n",
              "    <tr>\n",
              "      <th>0</th>\n",
              "      <td>Chiasmal syndrome</td>\n",
              "    </tr>\n",
              "    <tr>\n",
              "      <th>1</th>\n",
              "      <td>Kleroterion</td>\n",
              "    </tr>\n",
              "  </tbody>\n",
              "</table>\n",
              "</div>"
            ],
            "text/plain": [
              "                   page\n",
              "node                   \n",
              "0     Chiasmal syndrome\n",
              "1           Kleroterion"
            ]
          },
          "metadata": {
            "tags": []
          },
          "execution_count": 10
        }
      ]
    },
    {
      "cell_type": "markdown",
      "metadata": {
        "id": "IpORLzbnvWwF"
      },
      "source": [
        "# RQ1"
      ]
    },
    {
      "cell_type": "markdown",
      "metadata": {
        "id": "1y94ECjpvqoY"
      },
      "source": [
        "### Is the graph directed?"
      ]
    },
    {
      "cell_type": "markdown",
      "metadata": {
        "id": "q9K1oP2C2eFH"
      },
      "source": [
        "In the function, we create two lists of edges: in one list, columns are inverted and in another columns are not. In case if they are equal we can say that they are not directed because for each edge from x to y there is an edge from y to x. "
      ]
    },
    {
      "cell_type": "code",
      "metadata": {
        "colab": {
          "base_uri": "https://localhost:8080/",
          "height": 111
        },
        "id": "lvRwfvVFxChZ",
        "outputId": "c99e946c-657b-46ff-88ff-493d26d231e2"
      },
      "source": [
        "df.head(2)"
      ],
      "execution_count": 48,
      "outputs": [
        {
          "output_type": "execute_result",
          "data": {
            "text/html": [
              "<div>\n",
              "<style scoped>\n",
              "    .dataframe tbody tr th:only-of-type {\n",
              "        vertical-align: middle;\n",
              "    }\n",
              "\n",
              "    .dataframe tbody tr th {\n",
              "        vertical-align: top;\n",
              "    }\n",
              "\n",
              "    .dataframe thead th {\n",
              "        text-align: right;\n",
              "    }\n",
              "</style>\n",
              "<table border=\"1\" class=\"dataframe\">\n",
              "  <thead>\n",
              "    <tr style=\"text-align: right;\">\n",
              "      <th></th>\n",
              "      <th>Source</th>\n",
              "      <th>Target</th>\n",
              "    </tr>\n",
              "  </thead>\n",
              "  <tbody>\n",
              "    <tr>\n",
              "      <th>0</th>\n",
              "      <td>95</td>\n",
              "      <td>1185516</td>\n",
              "    </tr>\n",
              "    <tr>\n",
              "      <th>1</th>\n",
              "      <td>108</td>\n",
              "      <td>1059989</td>\n",
              "    </tr>\n",
              "  </tbody>\n",
              "</table>\n",
              "</div>"
            ],
            "text/plain": [
              "   Source   Target\n",
              "0      95  1185516\n",
              "1     108  1059989"
            ]
          },
          "metadata": {
            "tags": []
          },
          "execution_count": 48
        }
      ]
    },
    {
      "cell_type": "code",
      "metadata": {
        "id": "i_8VSo2XxLyK"
      },
      "source": [
        "def is_directed(df):\r\n",
        "  df_inverted = df[df.columns[::-1]] \r\n",
        "  intersection = [v for v in df.values.tolist() if v in df_inverted.values.tolist()] \r\n",
        "  if (intersection == df.values.tolist()): \r\n",
        "      print('Not Directed')\r\n",
        "  else:\r\n",
        "      print('Directed')"
      ],
      "execution_count": 12,
      "outputs": []
    },
    {
      "cell_type": "code",
      "metadata": {
        "colab": {
          "base_uri": "https://localhost:8080/",
          "height": 0
        },
        "id": "ybLQvPFXzgRS",
        "outputId": "4d3e486a-ffab-4c0f-be9e-842d73658de5"
      },
      "source": [
        "is_directed(df)"
      ],
      "execution_count": 24,
      "outputs": [
        {
          "output_type": "stream",
          "text": [
            "Directed\n"
          ],
          "name": "stdout"
        }
      ]
    },
    {
      "cell_type": "markdown",
      "metadata": {
        "id": "pRTqtNqG5njl"
      },
      "source": [
        "### Generating Graph"
      ]
    },
    {
      "cell_type": "markdown",
      "metadata": {
        "id": "JD7kB6d-6Ew6"
      },
      "source": [
        "Since we concluded that the graph has to be directed, we use the method DiGraph of networkx"
      ]
    },
    {
      "cell_type": "code",
      "metadata": {
        "id": "CYlh0dCvzizr"
      },
      "source": [
        "def graph_generation(df):\r\n",
        "  \r\n",
        "  li1 = list(df['Source']) \r\n",
        "  li2 = list(df['Target'])\r\n",
        "  G = networkx.DiGraph()    \r\n",
        "\r\n",
        "  for i in tqdm(range(len(df))):\r\n",
        "      if li1[i] not in G.nodes: \r\n",
        "          G.add_node(li1[i]) \r\n",
        "      if li2[i] not in G.nodes:\r\n",
        "          G.add_node(li2[i]) \r\n",
        "      G.add_edge(li1[i], li2[i], weight=1) \r\n",
        "  return G"
      ],
      "execution_count": 13,
      "outputs": []
    },
    {
      "cell_type": "code",
      "metadata": {
        "id": "M3sYYLsO7YgZ",
        "colab": {
          "base_uri": "https://localhost:8080/",
          "height": 0
        },
        "outputId": "e75d6adb-158b-4713-b3f9-36379752b59e"
      },
      "source": [
        "G = graph_generation(df)"
      ],
      "execution_count": 14,
      "outputs": [
        {
          "output_type": "stream",
          "text": [
            "100%|██████████| 483094/483094 [00:02<00:00, 194551.36it/s]\n"
          ],
          "name": "stderr"
        }
      ]
    },
    {
      "cell_type": "markdown",
      "metadata": {
        "id": "jpG9qVel8LL0"
      },
      "source": [
        "### How many articles are we considering?"
      ]
    },
    {
      "cell_type": "markdown",
      "metadata": {
        "id": "kLlVrMINWlB0"
      },
      "source": [
        "Here, we are just concating two columns and then finding unique nodes which are articles."
      ]
    },
    {
      "cell_type": "code",
      "metadata": {
        "id": "mVG-L8_88RXA",
        "colab": {
          "base_uri": "https://localhost:8080/",
          "height": 0
        },
        "outputId": "2115d3c0-9fb8-4543-9d8e-53a5020825bb"
      },
      "source": [
        "print('Tot articles = ' + str(pd.concat([df.Source, df.Target]).nunique()))"
      ],
      "execution_count": 15,
      "outputs": [
        {
          "output_type": "stream",
          "text": [
            "Tot articles = 98343\n"
          ],
          "name": "stdout"
        }
      ]
    },
    {
      "cell_type": "markdown",
      "metadata": {
        "id": "xZsqFfApZm8L"
      },
      "source": [
        "### How many hyperlinks between pages exist?"
      ]
    },
    {
      "cell_type": "markdown",
      "metadata": {
        "id": "CO4cK-fkaIbX"
      },
      "source": [
        "Since hyperlinks are equal to total number of edges, it is just length of our dataframe"
      ]
    },
    {
      "cell_type": "code",
      "metadata": {
        "colab": {
          "base_uri": "https://localhost:8080/",
          "height": 0
        },
        "id": "aDFnKWwSZ0tX",
        "outputId": "0e90fe52-798d-4e0a-8cb4-4877bc6337cf"
      },
      "source": [
        "print('Tot hyperlinks = '+ str(df.shape[0]))"
      ],
      "execution_count": 16,
      "outputs": [
        {
          "output_type": "stream",
          "text": [
            "Tot hyperlinks = 483094\n"
          ],
          "name": "stdout"
        }
      ]
    },
    {
      "cell_type": "markdown",
      "metadata": {
        "id": "Q5bNigmRcRsv"
      },
      "source": [
        "### Compute the average number of links in an arbitrary page. "
      ]
    },
    {
      "cell_type": "markdown",
      "metadata": {
        "id": "eFIhl0Uocxz2"
      },
      "source": [
        "To find the average number of links, we firstly calculated the sum of degrees for every node and then we divided it by number of nodes."
      ]
    },
    {
      "cell_type": "code",
      "metadata": {
        "colab": {
          "base_uri": "https://localhost:8080/",
          "height": 0
        },
        "id": "HdIXEiLEZ-Ho",
        "outputId": "05bdbbdb-fe79-40ef-a9eb-f91954996785"
      },
      "source": [
        "summation = 0 \r\n",
        "for i in G.nodes: \r\n",
        "  summation = summation + networkx.degree(G)[i]\r\n",
        "\r\n",
        "print('Average number of links = ' + str(summation/len(G.nodes)))"
      ],
      "execution_count": 17,
      "outputs": [
        {
          "output_type": "stream",
          "text": [
            "Average number of links = 9.824674862471147\n"
          ],
          "name": "stdout"
        }
      ]
    },
    {
      "cell_type": "markdown",
      "metadata": {
        "id": "kBHk0GAPd-CQ"
      },
      "source": [
        "### What is the graph density?"
      ]
    },
    {
      "cell_type": "markdown",
      "metadata": {
        "id": "lXL3PK78enuO"
      },
      "source": [
        "First of all, a graph is dense if the number of edges is close to the maximum number of edges it can possibly have. Its formula is |E|/(|V|(|V|-1)) where E is numbder of edges and V is number of vertices."
      ]
    },
    {
      "cell_type": "code",
      "metadata": {
        "colab": {
          "base_uri": "https://localhost:8080/",
          "height": 0
        },
        "id": "7zE3dVdpclH3",
        "outputId": "457c026b-0a9c-4be3-fb7d-82458bc1d695"
      },
      "source": [
        "edges = df.shape[0]\r\n",
        "nodes = pd.concat([df.Source, df.Target]).nunique()\r\n",
        "print ('Graph Density = ' + str(edges/(nodes*(nodes-1))))"
      ],
      "execution_count": 18,
      "outputs": [
        {
          "output_type": "stream",
          "text": [
            "Graph Density = 4.9951571365597335e-05\n"
          ],
          "name": "stdout"
        }
      ]
    },
    {
      "cell_type": "markdown",
      "metadata": {
        "id": "WpWa9CaQgyBI"
      },
      "source": [
        "Our graph is relatively really sparse because the maximum density is 1 and our graph's density is approximately 0.00005"
      ]
    },
    {
      "cell_type": "markdown",
      "metadata": {
        "id": "wRPGw46VirCe"
      },
      "source": [
        "### Visualize the nodes' degree distribution"
      ]
    },
    {
      "cell_type": "code",
      "metadata": {
        "colab": {
          "base_uri": "https://localhost:8080/",
          "height": 111
        },
        "id": "q_YkZ1yQjSt9",
        "outputId": "5ef6549c-3ea5-40f9-c306-a49f33544082"
      },
      "source": [
        "df.head(2)"
      ],
      "execution_count": 55,
      "outputs": [
        {
          "output_type": "execute_result",
          "data": {
            "text/html": [
              "<div>\n",
              "<style scoped>\n",
              "    .dataframe tbody tr th:only-of-type {\n",
              "        vertical-align: middle;\n",
              "    }\n",
              "\n",
              "    .dataframe tbody tr th {\n",
              "        vertical-align: top;\n",
              "    }\n",
              "\n",
              "    .dataframe thead th {\n",
              "        text-align: right;\n",
              "    }\n",
              "</style>\n",
              "<table border=\"1\" class=\"dataframe\">\n",
              "  <thead>\n",
              "    <tr style=\"text-align: right;\">\n",
              "      <th></th>\n",
              "      <th>Source</th>\n",
              "      <th>Target</th>\n",
              "    </tr>\n",
              "  </thead>\n",
              "  <tbody>\n",
              "    <tr>\n",
              "      <th>0</th>\n",
              "      <td>95</td>\n",
              "      <td>1185516</td>\n",
              "    </tr>\n",
              "    <tr>\n",
              "      <th>1</th>\n",
              "      <td>108</td>\n",
              "      <td>1059989</td>\n",
              "    </tr>\n",
              "  </tbody>\n",
              "</table>\n",
              "</div>"
            ],
            "text/plain": [
              "   Source   Target\n",
              "0      95  1185516\n",
              "1     108  1059989"
            ]
          },
          "metadata": {
            "tags": []
          },
          "execution_count": 55
        }
      ]
    },
    {
      "cell_type": "code",
      "metadata": {
        "id": "Gd6ZvZMAiVbb"
      },
      "source": [
        "def distribution_plot(G):\r\n",
        "    dis = [len(G[i]) for i in G]\r\n",
        "    norm =[(float(i)/sum(dis)) for i in dis]\r\n",
        "\r\n",
        "    plt.figure(figsize=(20,9))\r\n",
        "    plt.plot(range(len(dis)),norm)\r\n",
        "    plt.title('Nodes Degree Distribution')\r\n",
        "    plt.show()"
      ],
      "execution_count": 21,
      "outputs": []
    },
    {
      "cell_type": "code",
      "metadata": {
        "colab": {
          "base_uri": "https://localhost:8080/",
          "height": 553
        },
        "id": "slp-dR4KpxXX",
        "outputId": "b4e04a9c-27fe-40d1-d90b-5a844520f5d5"
      },
      "source": [
        "distribution_plot(G)"
      ],
      "execution_count": 22,
      "outputs": [
        {
          "output_type": "display_data",
          "data": {
            "image/png": "[encoded data removed]",
            "text/plain": [
              "<Figure size 1440x648 with 1 Axes>"
            ]
          },
          "metadata": {
            "tags": [],
            "needs_background": "light"
          }
        }
      ]
    },
    {
      "cell_type": "markdown",
      "metadata": {
        "id": "nwA4B1mA9TJw"
      },
      "source": [
        "# RQ2\r\n",
        "Define a function that takes in input:\r\n",
        "\r\n",
        "A page v\r\n",
        "\r\n",
        "---\r\n",
        "\r\n",
        "\r\n",
        "A number of clicks d\r\n",
        "\r\n",
        "\r\n",
        "---\r\n",
        "\r\n",
        "\r\n",
        "\r\n",
        "\r\n",
        "\r\n",
        "\r\n",
        "and returns the set of all pages that a user can reach within d clicks."
      ]
    },
    {
      "cell_type": "markdown",
      "metadata": {
        "id": "YX_hH65ZoxoQ"
      },
      "source": [
        "The starting node is the first visited node and it is firstly included in our list of nodes. Then, we iterate through all the clicks. For the first iteration we have neigbours of our first node and we add it to the list  'all_nodes' and then we replace our inital list with 'all_nodes'. We do this proces for each click."
      ]
    },
    {
      "cell_type": "markdown",
      "metadata": {
        "id": "n912SzjztQgS"
      },
      "source": [
        " I added tqdm for iterations to keep count of our progress. Here, the growth is exponential: more clicks we add, even more nodes we will have in our list. So, for example, 10th click might be computationally really expensive."
      ]
    },
    {
      "cell_type": "code",
      "metadata": {
        "id": "0xdL02sP9kV6"
      },
      "source": [
        "def max_click_reach(G, node, clicks):\r\n",
        "    nodes = [node] \r\n",
        "    for i in tqdm(range(clicks)): \r\n",
        "        all_nodes =[] \r\n",
        "        for n in nodes:\r\n",
        "            for neighbour in G[n]: \r\n",
        "                all_nodes.append(neighbour)  \r\n",
        "        nodes = all_nodes\r\n",
        "    final_set = set(all_nodes)\r\n",
        "    return final_set "
      ],
      "execution_count": 45,
      "outputs": []
    },
    {
      "cell_type": "code",
      "metadata": {
        "colab": {
          "base_uri": "https://localhost:8080/",
          "height": 0
        },
        "id": "CHCFcBW4j5zo",
        "outputId": "08d6a2d7-4d70-4833-d12e-a9c9348d117a"
      },
      "source": [
        "len(max_click_reach(G, 1055135, 1))"
      ],
      "execution_count": 42,
      "outputs": [
        {
          "output_type": "stream",
          "text": [
            "100%|██████████| 1/1 [00:00<00:00, 4232.40it/s]\n"
          ],
          "name": "stderr"
        },
        {
          "output_type": "execute_result",
          "data": {
            "text/plain": [
              "7"
            ]
          },
          "metadata": {
            "tags": []
          },
          "execution_count": 42
        }
      ]
    },
    {
      "cell_type": "code",
      "metadata": {
        "colab": {
          "base_uri": "https://localhost:8080/",
          "height": 0
        },
        "id": "BTE3_qFzl6iz",
        "outputId": "5d3e559a-4ea2-4d54-fe77-008ccb8ee465"
      },
      "source": [
        "len(max_click_reach(G, 1055135, 5)) # In five clicks you have options to visit 35570 nodes and one iteration is doone in 1/6 seconds"
      ],
      "execution_count": 43,
      "outputs": [
        {
          "output_type": "stream",
          "text": [
            "100%|██████████| 5/5 [00:00<00:00,  5.75it/s]\n"
          ],
          "name": "stderr"
        },
        {
          "output_type": "execute_result",
          "data": {
            "text/plain": [
              "35570"
            ]
          },
          "metadata": {
            "tags": []
          },
          "execution_count": 43
        }
      ]
    },
    {
      "cell_type": "code",
      "metadata": {
        "colab": {
          "base_uri": "https://localhost:8080/",
          "height": 0
        },
        "id": "PpRW2XvXrs3y",
        "outputId": "aca47c2d-248d-488a-e618-d0f0cdda45a4"
      },
      "source": [
        "len(max_click_reach(G, 1055135, 6)) # On the sixth click, now, it takes 3 seconds on average to run just one iteration \r\n",
        "#  So, the difference between the fifth and sixth clicks is immense. "
      ],
      "execution_count": 44,
      "outputs": [
        {
          "output_type": "stream",
          "text": [
            "100%|██████████| 6/6 [00:19<00:00,  3.19s/it]\n"
          ],
          "name": "stderr"
        },
        {
          "output_type": "execute_result",
          "data": {
            "text/plain": [
              "44681"
            ]
          },
          "metadata": {
            "tags": []
          },
          "execution_count": 44
        }
      ]
    },
    {
      "cell_type": "markdown",
      "metadata": {
        "id": "WYiaNhT-orJ1"
      },
      "source": [
        "# RQ3\r\n",
        "Define a function that takes in input:\r\n",
        "\r\n",
        "\r\n",
        "---\r\n",
        "\r\n",
        "\r\n",
        "A category C\r\n",
        "\r\n",
        "\r\n",
        "---\r\n",
        "\r\n",
        "\r\n",
        "A set of pages in C, p = {p1, ..., pn}\r\n",
        "\r\n",
        "\r\n",
        "---\r\n",
        "\r\n",
        "\r\n",
        "and returns the minimum number of clicks required to reach all pages in p, starting from the page v, corresponding to the most central article, according to the in-degree centrality, in C."
      ]
    },
    {
      "cell_type": "markdown",
      "metadata": {
        "id": "zJHQdyEBXch2"
      },
      "source": [
        "Before implementing our algorithm, we have to create a dictionary, 'dictionary_degree', in which each node is mapped to its out-degree. "
      ]
    },
    {
      "cell_type": "code",
      "metadata": {
        "id": "WFT2hblq3XdF"
      },
      "source": [
        "dictionary_degree = defaultdict(int)\r\n",
        "for i in G:\r\n",
        "  dictionary_degree[i]= len(G[i])"
      ],
      "execution_count": 51,
      "outputs": []
    },
    {
      "cell_type": "code",
      "metadata": {
        "colab": {
          "base_uri": "https://localhost:8080/",
          "height": 0
        },
        "id": "RdJ3QMMnWB0Q",
        "outputId": "f5ae6ca5-1d93-46b1-dc0c-4c64ae5b9896"
      },
      "source": [
        "dictionary_degree[95]"
      ],
      "execution_count": 55,
      "outputs": [
        {
          "output_type": "execute_result",
          "data": {
            "text/plain": [
              "1"
            ]
          },
          "metadata": {
            "tags": []
          },
          "execution_count": 55
        }
      ]
    },
    {
      "cell_type": "markdown",
      "metadata": {
        "id": "ecyZV6obphXZ"
      },
      "source": [
        "In the function below,  we used the Breadth First Search algorithm to reach our goal"
      ]
    },
    {
      "cell_type": "code",
      "metadata": {
        "id": "x07tklRmWn7n"
      },
      "source": [
        "def Breadth_First_Search(G, reversed_dictionary, dictionary_degree):\r\n",
        "    cat = input('Insert the category: ')\r\n",
        "    pages = reversed_dictionary[\"{}\".format(cat)]\r\n",
        "    pages_array = list(map(int,pages)) \r\n",
        "\r\n",
        "    degree_value= {i: dictionary_degree[i] for i in pages_array} \r\n",
        "    highest_degree_node = max(degree_value.items(), key=operator.itemgetter(1))[0] \r\n",
        "\r\n",
        "    v_nodes = [] \r\n",
        "    neigbours_queue = []   \r\n",
        "    v_nodes.append(highest_degree_node) \r\n",
        "    neigbours_queue.append(highest_degree_node)   \r\n",
        "    quantity_visited_levels=0\r\n",
        "    while pages_array and neigbours_queue: \r\n",
        "        s = neigbours_queue.pop(0) \r\n",
        "\r\n",
        "        for neighbour in G[s]:  \r\n",
        "            if neighbour not in v_nodes: \r\n",
        "                v_nodes.append(neighbour) \r\n",
        "                neigbours_queue.append(neighbour) \r\n",
        "                if neighbour in pages_array:\r\n",
        "                    pages_array.remove(neighbour) \r\n",
        "\r\n",
        "        quantity_visited_levels = quantity_visited_levels + 1 \r\n",
        "\r\n",
        "    if len(pages_array)>0:\r\n",
        "        print('Not Possible')\r\n",
        "    else:\r\n",
        "        print('Found')\r\n",
        "        \r\n",
        "    return quantity_visited_levels "
      ],
      "execution_count": 74,
      "outputs": []
    },
    {
      "cell_type": "code",
      "metadata": {
        "colab": {
          "base_uri": "https://localhost:8080/",
          "height": 0
        },
        "id": "bfFJQKa1mPvk",
        "outputId": "50014b1e-ae30-4ce5-de00-f393053a621a"
      },
      "source": [
        "Breadth_First_Search(G, reversed_dictionary, dictionary_degree)"
      ],
      "execution_count": 75,
      "outputs": [
        {
          "output_type": "stream",
          "text": [
            "Insert the category: 20th-century_Bah's\n",
            "Not Possible\n"
          ],
          "name": "stdout"
        },
        {
          "output_type": "execute_result",
          "data": {
            "text/plain": [
              "64011"
            ]
          },
          "metadata": {
            "tags": []
          },
          "execution_count": 75
        }
      ]
    },
    {
      "cell_type": "markdown",
      "metadata": {
        "id": "2tqqJsr9p6Fb"
      },
      "source": [
        "# RQ4"
      ]
    },
    {
      "cell_type": "markdown",
      "metadata": {
        "id": "yiVm_GhcrNrM"
      },
      "source": [
        "Given in input two categories: C1 and C2, we get the subgraph induced by all the articles in the two categories.\r\n",
        "\r\n",
        "Let v and u two arbitrary pages in the subgraph. What is the minimum set of hyperlinks one can remove to disconnect u and v?"
      ]
    },
    {
      "cell_type": "markdown",
      "metadata": {
        "id": "pV2YvZaIwPe0"
      },
      "source": [
        "In the function below, a subgraph between two categories is created. Since we are interested in disconnection, undirected graph is used and this will improve our solution and computation."
      ]
    },
    {
      "cell_type": "code",
      "metadata": {
        "id": "WeSjoXqyp75H"
      },
      "source": [
        "def create_subgraph(G, reversed_dictionary):\r\n",
        "    \r\n",
        "    c1 = input('Insert C1: ')\r\n",
        "    c2 = input('Insert C2: ')\r\n",
        "    n1 = list(map(int,reversed_dictionary[\"{}\".format(c1)]))\r\n",
        "    n2 = list(map(int,reversed_dictionary[\"{}\".format(c2)]))\r\n",
        "    total_nodes = n1 + n2\r\n",
        "  \r\n",
        "    return networkx.Graph(G.subgraph(total_nodes).copy())"
      ],
      "execution_count": 78,
      "outputs": []
    },
    {
      "cell_type": "code",
      "metadata": {
        "colab": {
          "base_uri": "https://localhost:8080/",
          "height": 359
        },
        "id": "yvBAVeVbDD6T",
        "outputId": "95179c23-56aa-4fc9-e6ac-da84da7b1a94"
      },
      "source": [
        "df_cat.head(10)"
      ],
      "execution_count": 87,
      "outputs": [
        {
          "output_type": "execute_result",
          "data": {
            "text/html": [
              "<div>\n",
              "<style scoped>\n",
              "    .dataframe tbody tr th:only-of-type {\n",
              "        vertical-align: middle;\n",
              "    }\n",
              "\n",
              "    .dataframe tbody tr th {\n",
              "        vertical-align: top;\n",
              "    }\n",
              "\n",
              "    .dataframe thead th {\n",
              "        text-align: right;\n",
              "    }\n",
              "</style>\n",
              "<table border=\"1\" class=\"dataframe\">\n",
              "  <thead>\n",
              "    <tr style=\"text-align: right;\">\n",
              "      <th></th>\n",
              "      <th>Category</th>\n",
              "      <th>Articles</th>\n",
              "    </tr>\n",
              "  </thead>\n",
              "  <tbody>\n",
              "    <tr>\n",
              "      <th>0</th>\n",
              "      <td>English_engineers</td>\n",
              "      <td>[1056, 1094099, 1094717, 1342675, 1470897, 147...</td>\n",
              "    </tr>\n",
              "    <tr>\n",
              "      <th>1</th>\n",
              "      <td>English_Anglican_priests</td>\n",
              "      <td>[1057, 1516731, 31509, 885549, 58363, 449802, ...</td>\n",
              "    </tr>\n",
              "    <tr>\n",
              "      <th>2</th>\n",
              "      <td>British_television_presenters</td>\n",
              "      <td>[1058, 42939, 158274, 164938, 943302, 1003324,...</td>\n",
              "    </tr>\n",
              "    <tr>\n",
              "      <th>3</th>\n",
              "      <td>People_from_Worcester</td>\n",
              "      <td>[1059, 1060, 84108, 84740, 158412, 166087, 194...</td>\n",
              "    </tr>\n",
              "    <tr>\n",
              "      <th>4</th>\n",
              "      <td>16th-century_English_people</td>\n",
              "      <td>[60971, 1143243, 1144198, 1142211, 1144581, 21...</td>\n",
              "    </tr>\n",
              "    <tr>\n",
              "      <th>5</th>\n",
              "      <td>English_footballers</td>\n",
              "      <td>[76515, 78094, 89734, 1295678, 89362, 82788, 8...</td>\n",
              "    </tr>\n",
              "    <tr>\n",
              "      <th>6</th>\n",
              "      <td>English_football_managers</td>\n",
              "      <td>[76871, 74816, 74988, 82953, 82746, 74981, 873...</td>\n",
              "    </tr>\n",
              "    <tr>\n",
              "      <th>7</th>\n",
              "      <td>Association_football_midfielders</td>\n",
              "      <td>[79069, 803230, 26916, 27006, 27740, 28027, 28...</td>\n",
              "    </tr>\n",
              "    <tr>\n",
              "      <th>8</th>\n",
              "      <td>Wolverhampton_Wanderers_F.C._players</td>\n",
              "      <td>[79139, 76815, 86419, 80397, 74872, 80159, 780...</td>\n",
              "    </tr>\n",
              "    <tr>\n",
              "      <th>9</th>\n",
              "      <td>Living_people</td>\n",
              "      <td>[79143, 80237, 499532, 538870, 826926, 883273,...</td>\n",
              "    </tr>\n",
              "  </tbody>\n",
              "</table>\n",
              "</div>"
            ],
            "text/plain": [
              "                               Category                                           Articles\n",
              "0                     English_engineers  [1056, 1094099, 1094717, 1342675, 1470897, 147...\n",
              "1              English_Anglican_priests  [1057, 1516731, 31509, 885549, 58363, 449802, ...\n",
              "2         British_television_presenters  [1058, 42939, 158274, 164938, 943302, 1003324,...\n",
              "3                 People_from_Worcester  [1059, 1060, 84108, 84740, 158412, 166087, 194...\n",
              "4           16th-century_English_people  [60971, 1143243, 1144198, 1142211, 1144581, 21...\n",
              "5                   English_footballers  [76515, 78094, 89734, 1295678, 89362, 82788, 8...\n",
              "6             English_football_managers  [76871, 74816, 74988, 82953, 82746, 74981, 873...\n",
              "7      Association_football_midfielders  [79069, 803230, 26916, 27006, 27740, 28027, 28...\n",
              "8  Wolverhampton_Wanderers_F.C._players  [79139, 76815, 86419, 80397, 74872, 80159, 780...\n",
              "9                         Living_people  [79143, 80237, 499532, 538870, 826926, 883273,..."
            ]
          },
          "metadata": {
            "tags": []
          },
          "execution_count": 87
        }
      ]
    },
    {
      "cell_type": "code",
      "metadata": {
        "colab": {
          "base_uri": "https://localhost:8080/",
          "height": 0
        },
        "id": "dWdV22URvour",
        "outputId": "7f480238-499d-4dd0-c650-ff2d7576493f"
      },
      "source": [
        "subgraph = create_subgraph(G, reversed_dictionary)"
      ],
      "execution_count": 91,
      "outputs": [
        {
          "output_type": "stream",
          "text": [
            "Insert C1: English_engineers\n",
            "Insert C2: English_Anglican_priests\n"
          ],
          "name": "stdout"
        }
      ]
    },
    {
      "cell_type": "code",
      "metadata": {
        "id": "2EOBJlKAFlXN"
      },
      "source": [
        "subgraph2 = create_subgraph(G, reversed_dictionary)"
      ],
      "execution_count": 96,
      "outputs": []
    },
    {
      "cell_type": "markdown",
      "metadata": {
        "id": "7zqbInZZDNpC"
      },
      "source": [
        ""
      ]
    },
    {
      "cell_type": "markdown",
      "metadata": {
        "id": "1_htqFeS6Rc4"
      },
      "source": [
        "In the function below,   the Breadth First Search algorithm is used with an exception that we stop iterating when we find a connection between two nodes"
      ]
    },
    {
      "cell_type": "code",
      "metadata": {
        "id": "qe3fHPf42eSx"
      },
      "source": [
        "def Breadth_First_Search_Modified(G, node1, node2):\r\n",
        "\r\n",
        "    path_two_nodes=[]\r\n",
        "    parents={}\r\n",
        "    flag=False \r\n",
        "    pages = [] \r\n",
        "    neigbours_queue = []   \r\n",
        "    pages.append(node1) \r\n",
        "    neigbours_queue.append(node1)  \r\n",
        "    quantity_visited_levels=0\r\n",
        "    while neigbours_queue: \r\n",
        "        s = neigbours_queue.pop(0) \r\n",
        "\r\n",
        "        for n in G[s]: \r\n",
        "            if n not in pages: \r\n",
        "                parents[n]=s\r\n",
        "                pages.append(n) \r\n",
        "                neigbours_queue.append(n) \r\n",
        "                if n==node2:    \r\n",
        "                    path_two_nodes = [node2]\r\n",
        "                    while path_two_nodes[-1] != node2:\r\n",
        "                        path_two_nodes.append(parents[path_two_nodes[-1]])\r\n",
        "                    path_two_nodes.reverse()    \r\n",
        "                    flag=True  \r\n",
        "                    # print('Found') \r\n",
        "                    break \r\n",
        "       \r\n",
        "        quantity_visited_levels= quantity_visited_levels+1  \r\n",
        "\r\n",
        "    return quantity_visited_levels, path_two_nodes, flag"
      ],
      "execution_count": 106,
      "outputs": []
    },
    {
      "cell_type": "markdown",
      "metadata": {
        "id": "DdEMyWDIApxS"
      },
      "source": [
        "Finally, in this function we keep running iteratively the function \"Breadth_First_Search_Modified\" until paths  between \"node1\" and \"node2\" are being found"
      ]
    },
    {
      "cell_type": "code",
      "metadata": {
        "id": "BN4Q24ejv4d8"
      },
      "source": [
        "def minimum_hyperlinks_cut(G, node1, node2):\r\n",
        "\r\n",
        "    gcopy= G.copy()\r\n",
        "    minimum_edges=0\r\n",
        "    quantity_visited_levels, path_two_nodes, flag = Breadth_First_Search_Modified(gcopy,node1, node2)\r\n",
        "    print(path_two_nodes)\r\n",
        "\r\n",
        "    while flag:\r\n",
        "        minimum_edges= minimum_edges + 1\r\n",
        "        # print(minimum_edges)\r\n",
        "        i=0\r\n",
        "        while i < len(path_two_nodes)-1:  # here, we are moving edges between nodes\r\n",
        "            try:\r\n",
        "                gcopy.remove_edge(path_two_nodes[i],path_two_nodes[i+1]) # we remove edges from both sides\r\n",
        "            except:\r\n",
        "                gcopy.remove_edge(path_two_nodes[i+1],path_two_nodes[i])\r\n",
        "            i = i + 1\r\n",
        "\r\n",
        "        quantity_visited_levels, path_two_nodes, flag = Breadth_First_Search_Modified(gcopy, node1, node2)\r\n",
        "\r\n",
        "    return minimum_edges"
      ],
      "execution_count": 109,
      "outputs": []
    },
    {
      "cell_type": "code",
      "metadata": {
        "colab": {
          "base_uri": "https://localhost:8080/",
          "height": 0
        },
        "id": "XOyyP1YYC3WQ",
        "outputId": "2b597f0e-dbd4-4989-faee-343bcd4671b8"
      },
      "source": [
        "list(subgraph.nodes)"
      ],
      "execution_count": 92,
      "outputs": [
        {
          "output_type": "execute_result",
          "data": {
            "text/plain": [
              "[63104, 30884, 1144582, 449612, 449585, 1145298]"
            ]
          },
          "metadata": {
            "tags": []
          },
          "execution_count": 92
        }
      ]
    },
    {
      "cell_type": "code",
      "metadata": {
        "colab": {
          "base_uri": "https://localhost:8080/",
          "height": 0
        },
        "id": "ds840SZoEMBY",
        "outputId": "0fe98f32-2d13-4884-b47a-37cb4aa0c969"
      },
      "source": [
        "minimum_hyperlinks_cut(subgraph, 63104, 30884) "
      ],
      "execution_count": 93,
      "outputs": [
        {
          "output_type": "stream",
          "text": [
            "[]\n"
          ],
          "name": "stdout"
        },
        {
          "output_type": "execute_result",
          "data": {
            "text/plain": [
              "0"
            ]
          },
          "metadata": {
            "tags": []
          },
          "execution_count": 93
        }
      ]
    },
    {
      "cell_type": "markdown",
      "metadata": {
        "id": "ZjjwOHY5H88B"
      },
      "source": [
        "# RQ5"
      ]
    },
    {
      "cell_type": "markdown",
      "metadata": {
        "id": "YBrUkoi4KbrJ"
      },
      "source": [
        "Write a function that, given an arbitrary category C0 as input, returns the list of remaning categories sorted by their distance from C0. In particular, the distance between two categories is defined as\r\n",
        "\r\n",
        "\r\n",
        "---\r\n",
        "\r\n",
        "\r\n",
        "distance(C0, Ci) = median(ShortestPath(C0, Ci))\r\n",
        "\r\n",
        "\r\n",
        "---\r\n",
        "\r\n",
        "\r\n",
        "\r\n",
        "\r\n",
        "\r\n",
        "\r\n",
        "where ShortestPath(C0, Ci) is the set of shortest paths from each pair of nodes in the two categories."
      ]
    },
    {
      "cell_type": "markdown",
      "metadata": {
        "id": "HiJHTK90ZTW2"
      },
      "source": [
        "This function returns the shortest path from source node to all other articles. \r\n",
        "    "
      ]
    },
    {
      "cell_type": "code",
      "metadata": {
        "id": "xt0IrefBXdbh"
      },
      "source": [
        "def shortest_distance(G, source, art):\r\n",
        "\r\n",
        "    v_nodes = [node]\r\n",
        "    level = [node]\r\n",
        "    \r\n",
        "    distances = dict.fromkeys(art, -1)\r\n",
        "    quantity_visited_levels = 1\r\n",
        "    while True:\r\n",
        "        new_level = []\r\n",
        "        for article in level:\r\n",
        "            for adj in G.incident_edges(article):\r\n",
        "                if adj not in v_nodes:\r\n",
        "                    new_level.append(adj)\r\n",
        "                    v_nodes.append(adj)\r\n",
        "                    if adj in art:\r\n",
        "                        distances[adj] = quantity_visited_levels\r\n",
        "        if len(new_level) == 0:\r\n",
        "            break\r\n",
        "        level = new_level\r\n",
        "        quantity_visited_levels = quantity_visited_levels + 1\r\n",
        "    \r\n",
        "    if (np.array(list(distances.values())) == -1).all():\r\n",
        "        return -1\r\n",
        "    else:\r\n",
        "        shortest_distance = min([di for article, di in distances.items() if di != -1])\r\n",
        "        \r\n",
        "    return shortest_distance"
      ],
      "execution_count": 115,
      "outputs": []
    },
    {
      "cell_type": "markdown",
      "metadata": {
        "id": "AUt-L9vFWMEs"
      },
      "source": [
        "After indicating input category, the function below in the end gives a list of other categories that are sorted by the distance frpm our input category"
      ]
    },
    {
      "cell_type": "code",
      "metadata": {
        "id": "6Xt33lENH_mm"
      },
      "source": [
        "def distance_between_categories(G, reversed_dictionary, category_name):\r\n",
        "    \r\n",
        "    category_distances = {}\r\n",
        "    \r\n",
        "    for cat, art in tqdm(reversed_dictionary.items()):\r\n",
        "        shortest_path = {}\r\n",
        "        art = [int(article) for article in art if article in G.nodes()]   \r\n",
        "        if cat != category_name:\r\n",
        "            for node in reversed_dictionary[category_name]:\r\n",
        "                if node in G.nodes():\r\n",
        "                    shortest_dist = shortest_distance(G, int(node), art) \r\n",
        "                    \r\n",
        "                    if shortest_dist == -1: \r\n",
        "                         continue\r\n",
        "                    else:\r\n",
        "                        shortest_path[node] = shortest_dist\r\n",
        "            \r\n",
        "            if len(shortest_path) == 0:\r\n",
        "                continue\r\n",
        "            else:\r\n",
        "                median = np.median([shortest for node, shortest in shortest_path.items()])\r\n",
        "                category_distances[cat] = median\r\n",
        "    if len(category_distances) == 0:\r\n",
        "        return 'No other connection'\r\n",
        "    else:\r\n",
        "        return dict(sorted(category_distances.items(), key=lambda item: item[1]))"
      ],
      "execution_count": 119,
      "outputs": []
    },
    {
      "cell_type": "code",
      "metadata": {
        "colab": {
          "base_uri": "https://localhost:8080/",
          "height": 52
        },
        "id": "yHZe4yttbJfR",
        "outputId": "92b5187c-370b-43ac-b7df-b3ed18304b72"
      },
      "source": [
        "distance_between_categories(G, reversed_dictionary, 'Association_football_forwards')"
      ],
      "execution_count": 120,
      "outputs": [
        {
          "output_type": "stream",
          "text": [
            "100%|██████████| 17352/17352 [00:14<00:00, 1215.05it/s]\n"
          ],
          "name": "stderr"
        },
        {
          "output_type": "execute_result",
          "data": {
            "application/vnd.google.colaboratory.intrinsic+json": {
              "type": "string"
            },
            "text/plain": [
              "'No other connection'"
            ]
          },
          "metadata": {
            "tags": []
          },
          "execution_count": 120
        }
      ]
    },
    {
      "cell_type": "code",
      "metadata": {
        "id": "ddZVig14egk0"
      },
      "source": [
        ""
      ],
      "execution_count": null,
      "outputs": []
    }
  ]
}